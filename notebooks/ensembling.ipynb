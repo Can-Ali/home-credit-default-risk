{
 "cells": [
  {
   "cell_type": "markdown",
   "metadata": {},
   "source": [
    "## Model ensembling with weighted average\n",
    "\n",
    "This is a much simplified model ensembling as it only includes three single models.\n",
    "In the full solution, with 27 single models and 5 open solution models, ensembling can achieve a boost of ~0.002."
   ]
  },
  {
   "cell_type": "code",
   "execution_count": 1,
   "metadata": {},
   "outputs": [],
   "source": [
    "import numpy as np\n",
    "import pandas as pd\n",
    "from sklearn.metrics import roc_auc_score"
   ]
  },
  {
   "cell_type": "markdown",
   "metadata": {},
   "source": [
    "Read single model predictions"
   ]
  },
  {
   "cell_type": "code",
   "execution_count": 2,
   "metadata": {},
   "outputs": [],
   "source": [
    "train_files = ['../output/train_pred_lgb1.csv', '../output/train_pred_lgb2.csv', '../output/train_pred_lgb3.csv']\n",
    "test_files = ['../output/test_pred_lgb1.csv', '../output/test_pred_lgb2.csv', '../output/test_pred_lgb3.csv']\n",
    "\n",
    "n_model = len(train_files)\n",
    "\n",
    "train_x = pd.DataFrame()\n",
    "for i in range(n_model):\n",
    "    train_pred = pd.read_csv(train_files[i])\n",
    "    name = train_files[i][-8:-4]\n",
    "    train_x[name] = train_pred['prob']\n",
    "\n",
    "train_y = train_pred['target']\n",
    "\n",
    "test_x = pd.DataFrame()\n",
    "for i in range(len(test_files)):\n",
    "    test_pred = pd.read_csv(test_files[i])\n",
    "    name = test_files[i][-8:-4]\n",
    "    test_x[name] = test_pred['TARGET']\n",
    "\n",
    "test_id = test_pred['SK_ID_CURR']"
   ]
  },
  {
   "cell_type": "markdown",
   "metadata": {},
   "source": [
    "Check correlation between single model predictions, idealy we want low correlation for larger diversition between single models."
   ]
  },
  {
   "cell_type": "code",
   "execution_count": 3,
   "metadata": {},
   "outputs": [
    {
     "name": "stdout",
     "output_type": "stream",
     "text": [
      "correlation train:\n",
      "          lgb1      lgb2      lgb3\n",
      "lgb1  1.000000  0.990643  0.981924\n",
      "lgb2  0.990643  1.000000  0.984013\n",
      "lgb3  0.981924  0.984013  1.000000\n",
      "correlation test:\n",
      "          lgb1      lgb2      lgb3\n",
      "lgb1  1.000000  0.993755  0.990406\n",
      "lgb2  0.993755  1.000000  0.992537\n",
      "lgb3  0.990406  0.992537  1.000000\n"
     ]
    }
   ],
   "source": [
    "print('correlation train:')\n",
    "print(train_x.corr())\n",
    "print('correlation test:')\n",
    "print(test_x.corr())"
   ]
  },
  {
   "cell_type": "markdown",
   "metadata": {},
   "source": [
    "Blending and check blended model local CV"
   ]
  },
  {
   "cell_type": "code",
   "execution_count": 4,
   "metadata": {},
   "outputs": [
    {
     "name": "stdout",
     "output_type": "stream",
     "text": [
      "                     lgb1, auc 0.802002   weight: 0.3333\n",
      "                     lgb2, auc 0.801779   weight: 0.3333\n",
      "                     lgb3, auc 0.801157   weight: 0.3333\n",
      "stacking model auc: train 0.802830\n"
     ]
    }
   ],
   "source": [
    "weights = [1.0/3, 1.0/3, 1.0/3]\n",
    "train_pred = pd.Series(np.zeros([train_x.shape[0]]))\n",
    "test_pred = pd.Series(np.zeros([test_x.shape[0]]))\n",
    "\n",
    "for i in range(n_model):\n",
    "    train_pred += weights[i] * train_x.iloc[:,i].values\n",
    "    test_pred += weights[i] * test_x.iloc[:,i].values\n",
    "    print ('%25s, auc %.6f   weight: %.4f' %(train_x.columns.values[i], roc_auc_score(train_y,train_x.iloc[:,i]), weights[i]))\n",
    "\n",
    "print ('stacking model auc: train %.6f' %(roc_auc_score(train_y,train_pred)))"
   ]
  },
  {
   "cell_type": "markdown",
   "metadata": {},
   "source": [
    "Save test prediction to disk. This will be our final submission."
   ]
  },
  {
   "cell_type": "code",
   "execution_count": 5,
   "metadata": {},
   "outputs": [],
   "source": [
    "sub = pd.DataFrame()\n",
    "sub['SK_ID_CURR'] = test_id\n",
    "sub['TARGET'] = test_pred\n",
    "sub.to_csv('../output/stacked_sub.csv',index=False)"
   ]
  }
 ],
 "metadata": {
  "kernelspec": {
   "display_name": "Python 3",
   "language": "python",
   "name": "python3"
  },
  "language_info": {
   "codemirror_mode": {
    "name": "ipython",
    "version": 3
   },
   "file_extension": ".py",
   "mimetype": "text/x-python",
   "name": "python",
   "nbconvert_exporter": "python",
   "pygments_lexer": "ipython3",
   "version": "3.6.6"
  }
 },
 "nbformat": 4,
 "nbformat_minor": 2
}
