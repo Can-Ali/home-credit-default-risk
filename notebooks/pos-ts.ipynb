{
 "cells": [
  {
   "cell_type": "markdown",
   "metadata": {},
   "source": [
    "## Pos-cash balance time series feature extraction\n",
    "Train GRU network on pos-cash balance time series data. Save prediction to be used as features in final training."
   ]
  },
  {
   "cell_type": "code",
   "execution_count": 1,
   "metadata": {
    "_cell_guid": "b1076dfc-b9ad-4769-8c92-a6c4dae69d19",
    "_uuid": "8f2839f25d086af736a60e9eeb907d3b93b6e0e5"
   },
   "outputs": [
    {
     "name": "stdout",
     "output_type": "stream",
     "text": [
      "['download_command.txt', 'sample_submission.csv.zip', 'installments_payments.csv.zip', 'application_test.csv.zip', 'HomeCredit_columns_description.csv', 'previous_application.csv.zip', 'bureau_balance.csv.zip', 'POS_CASH_balance.csv.zip', 'credit_card_balance.csv.zip', 'application_train.csv.zip', 'bureau.csv.zip']\n"
     ]
    }
   ],
   "source": [
    "import pandas as pd\n",
    "import numpy as np\n",
    "\n",
    "from sklearn.linear_model import LinearRegression, Ridge\n",
    "from sklearn.metrics import roc_auc_score, roc_curve\n",
    "from sklearn.model_selection import KFold, StratifiedKFold, train_test_split\n",
    "from sklearn.preprocessing import StandardScaler, MinMaxScaler, MaxAbsScaler\n",
    "import gc\n",
    "\n",
    "import os\n",
    "print(os.listdir(\"../input\"))\n",
    "    \n",
    "gc.enable()"
   ]
  },
  {
   "cell_type": "markdown",
   "metadata": {
    "_uuid": "eb29426ef66ee8c8719e75bc4a6318ec1fc39f2b",
    "collapsed": true
   },
   "source": [
    "Read pos-cash balance and create features."
   ]
  },
  {
   "cell_type": "code",
   "execution_count": 2,
   "metadata": {
    "_uuid": "9024c6dc89d6ea7d64b553236d73fe9a672ba899"
   },
   "outputs": [],
   "source": [
    "pos = pd.read_csv('../input/POS_CASH_balance.csv.zip')\n",
    "pos = pd.concat([pos, pd.get_dummies(pos['NAME_CONTRACT_STATUS'], prefix='NAME_CONTRACT_STATUS')], axis=1)\n",
    "pos['CNT_INSTALMENT']/=10\n",
    "pos['CNT_INSTALMENT_FUTURE']/=10\n",
    "del pos['NAME_CONTRACT_STATUS']"
   ]
  },
  {
   "cell_type": "markdown",
   "metadata": {},
   "source": [
    "Read target from main table."
   ]
  },
  {
   "cell_type": "code",
   "execution_count": 4,
   "metadata": {
    "_uuid": "3ba57fe82d915842f663fc21409af9f0ffc1abf8"
   },
   "outputs": [
    {
     "data": {
      "text/plain": [
       "((307511, 2), (48744, 1))"
      ]
     },
     "execution_count": 4,
     "metadata": {},
     "output_type": "execute_result"
    }
   ],
   "source": [
    "data_app = pd.read_csv('../input/application_train.csv.zip',usecols=['SK_ID_CURR','TARGET'])\n",
    "data_test = pd.read_csv('../input/application_test.csv.zip',usecols=['SK_ID_CURR'])\n",
    "data_app.shape, data_test.shape"
   ]
  },
  {
   "cell_type": "code",
   "execution_count": 5,
   "metadata": {
    "_uuid": "f9bbf170359e06f5c1bc257cc54e027cc396abb3"
   },
   "outputs": [
    {
     "data": {
      "text/plain": [
       "((289444,), (47808,))"
      ]
     },
     "execution_count": 5,
     "metadata": {},
     "output_type": "execute_result"
    }
   ],
   "source": [
    "trn_id = data_app['SK_ID_CURR'].loc[data_app.SK_ID_CURR.isin(pos.SK_ID_CURR)]\n",
    "test_id = data_test['SK_ID_CURR'].loc[data_test['SK_ID_CURR'].isin(pos.SK_ID_CURR)]\n",
    "trn_id.shape, test_id.shape"
   ]
  },
  {
   "cell_type": "markdown",
   "metadata": {},
   "source": [
    "Split train and test set. Group by ID and month to create time series."
   ]
  },
  {
   "cell_type": "code",
   "execution_count": 6,
   "metadata": {
    "_uuid": "0c6a308c58c959d41ba6fdaa9492133bfc5d0489"
   },
   "outputs": [
    {
     "data": {
      "text/html": [
       "<div>\n",
       "<style scoped>\n",
       "    .dataframe tbody tr th:only-of-type {\n",
       "        vertical-align: middle;\n",
       "    }\n",
       "\n",
       "    .dataframe tbody tr th {\n",
       "        vertical-align: top;\n",
       "    }\n",
       "\n",
       "    .dataframe thead th {\n",
       "        text-align: right;\n",
       "    }\n",
       "</style>\n",
       "<table border=\"1\" class=\"dataframe\">\n",
       "  <thead>\n",
       "    <tr style=\"text-align: right;\">\n",
       "      <th></th>\n",
       "      <th></th>\n",
       "      <th>SK_ID_PREV_COUNT</th>\n",
       "      <th>CNT_INSTALMENT_SUM</th>\n",
       "      <th>CNT_INSTALMENT_MAX</th>\n",
       "      <th>CNT_INSTALMENT_MEAN</th>\n",
       "      <th>CNT_INSTALMENT_FUTURE_SUM</th>\n",
       "      <th>CNT_INSTALMENT_FUTURE_MAX</th>\n",
       "      <th>CNT_INSTALMENT_FUTURE_MEAN</th>\n",
       "      <th>NAME_CONTRACT_STATUS_Approved_SUM</th>\n",
       "      <th>NAME_CONTRACT_STATUS_Canceled_SUM</th>\n",
       "      <th>NAME_CONTRACT_STATUS_Completed_SUM</th>\n",
       "      <th>NAME_CONTRACT_STATUS_Demand_SUM</th>\n",
       "      <th>NAME_CONTRACT_STATUS_Returned to the store_SUM</th>\n",
       "      <th>NAME_CONTRACT_STATUS_Signed_SUM</th>\n",
       "      <th>NAME_CONTRACT_STATUS_XNA_SUM</th>\n",
       "      <th>SK_DPD_SUM</th>\n",
       "      <th>SK_DPD_MEAN</th>\n",
       "      <th>SK_DPD_DEF_SUM</th>\n",
       "      <th>SK_DPD_DEF_MEAN</th>\n",
       "    </tr>\n",
       "    <tr>\n",
       "      <th>SK_ID_CURR</th>\n",
       "      <th>MONTHS_BALANCE</th>\n",
       "      <th></th>\n",
       "      <th></th>\n",
       "      <th></th>\n",
       "      <th></th>\n",
       "      <th></th>\n",
       "      <th></th>\n",
       "      <th></th>\n",
       "      <th></th>\n",
       "      <th></th>\n",
       "      <th></th>\n",
       "      <th></th>\n",
       "      <th></th>\n",
       "      <th></th>\n",
       "      <th></th>\n",
       "      <th></th>\n",
       "      <th></th>\n",
       "      <th></th>\n",
       "      <th></th>\n",
       "    </tr>\n",
       "  </thead>\n",
       "  <tbody>\n",
       "    <tr>\n",
       "      <th rowspan=\"5\" valign=\"top\">100001</th>\n",
       "      <th>-96</th>\n",
       "      <td>1</td>\n",
       "      <td>0.4</td>\n",
       "      <td>0.4</td>\n",
       "      <td>0.4</td>\n",
       "      <td>0.2</td>\n",
       "      <td>0.2</td>\n",
       "      <td>0.2</td>\n",
       "      <td>0</td>\n",
       "      <td>0</td>\n",
       "      <td>0</td>\n",
       "      <td>0</td>\n",
       "      <td>0</td>\n",
       "      <td>0</td>\n",
       "      <td>0</td>\n",
       "      <td>0</td>\n",
       "      <td>0.0</td>\n",
       "      <td>0</td>\n",
       "      <td>0.0</td>\n",
       "    </tr>\n",
       "    <tr>\n",
       "      <th>-95</th>\n",
       "      <td>1</td>\n",
       "      <td>0.4</td>\n",
       "      <td>0.4</td>\n",
       "      <td>0.4</td>\n",
       "      <td>0.1</td>\n",
       "      <td>0.1</td>\n",
       "      <td>0.1</td>\n",
       "      <td>0</td>\n",
       "      <td>0</td>\n",
       "      <td>0</td>\n",
       "      <td>0</td>\n",
       "      <td>0</td>\n",
       "      <td>0</td>\n",
       "      <td>0</td>\n",
       "      <td>7</td>\n",
       "      <td>7.0</td>\n",
       "      <td>7</td>\n",
       "      <td>7.0</td>\n",
       "    </tr>\n",
       "    <tr>\n",
       "      <th>-94</th>\n",
       "      <td>1</td>\n",
       "      <td>0.4</td>\n",
       "      <td>0.4</td>\n",
       "      <td>0.4</td>\n",
       "      <td>0.0</td>\n",
       "      <td>0.0</td>\n",
       "      <td>0.0</td>\n",
       "      <td>0</td>\n",
       "      <td>0</td>\n",
       "      <td>0</td>\n",
       "      <td>0</td>\n",
       "      <td>0</td>\n",
       "      <td>0</td>\n",
       "      <td>0</td>\n",
       "      <td>0</td>\n",
       "      <td>0.0</td>\n",
       "      <td>0</td>\n",
       "      <td>0.0</td>\n",
       "    </tr>\n",
       "    <tr>\n",
       "      <th>-93</th>\n",
       "      <td>1</td>\n",
       "      <td>0.4</td>\n",
       "      <td>0.4</td>\n",
       "      <td>0.4</td>\n",
       "      <td>0.0</td>\n",
       "      <td>0.0</td>\n",
       "      <td>0.0</td>\n",
       "      <td>0</td>\n",
       "      <td>0</td>\n",
       "      <td>1</td>\n",
       "      <td>0</td>\n",
       "      <td>0</td>\n",
       "      <td>0</td>\n",
       "      <td>0</td>\n",
       "      <td>0</td>\n",
       "      <td>0.0</td>\n",
       "      <td>0</td>\n",
       "      <td>0.0</td>\n",
       "    </tr>\n",
       "    <tr>\n",
       "      <th>-57</th>\n",
       "      <td>1</td>\n",
       "      <td>0.4</td>\n",
       "      <td>0.4</td>\n",
       "      <td>0.4</td>\n",
       "      <td>0.4</td>\n",
       "      <td>0.4</td>\n",
       "      <td>0.4</td>\n",
       "      <td>0</td>\n",
       "      <td>0</td>\n",
       "      <td>0</td>\n",
       "      <td>0</td>\n",
       "      <td>0</td>\n",
       "      <td>0</td>\n",
       "      <td>0</td>\n",
       "      <td>0</td>\n",
       "      <td>0.0</td>\n",
       "      <td>0</td>\n",
       "      <td>0.0</td>\n",
       "    </tr>\n",
       "  </tbody>\n",
       "</table>\n",
       "</div>"
      ],
      "text/plain": [
       "                           SK_ID_PREV_COUNT  CNT_INSTALMENT_SUM  \\\n",
       "SK_ID_CURR MONTHS_BALANCE                                         \n",
       "100001     -96                            1                 0.4   \n",
       "           -95                            1                 0.4   \n",
       "           -94                            1                 0.4   \n",
       "           -93                            1                 0.4   \n",
       "           -57                            1                 0.4   \n",
       "\n",
       "                           CNT_INSTALMENT_MAX  CNT_INSTALMENT_MEAN  \\\n",
       "SK_ID_CURR MONTHS_BALANCE                                            \n",
       "100001     -96                            0.4                  0.4   \n",
       "           -95                            0.4                  0.4   \n",
       "           -94                            0.4                  0.4   \n",
       "           -93                            0.4                  0.4   \n",
       "           -57                            0.4                  0.4   \n",
       "\n",
       "                           CNT_INSTALMENT_FUTURE_SUM  \\\n",
       "SK_ID_CURR MONTHS_BALANCE                              \n",
       "100001     -96                                   0.2   \n",
       "           -95                                   0.1   \n",
       "           -94                                   0.0   \n",
       "           -93                                   0.0   \n",
       "           -57                                   0.4   \n",
       "\n",
       "                           CNT_INSTALMENT_FUTURE_MAX  \\\n",
       "SK_ID_CURR MONTHS_BALANCE                              \n",
       "100001     -96                                   0.2   \n",
       "           -95                                   0.1   \n",
       "           -94                                   0.0   \n",
       "           -93                                   0.0   \n",
       "           -57                                   0.4   \n",
       "\n",
       "                           CNT_INSTALMENT_FUTURE_MEAN  \\\n",
       "SK_ID_CURR MONTHS_BALANCE                               \n",
       "100001     -96                                    0.2   \n",
       "           -95                                    0.1   \n",
       "           -94                                    0.0   \n",
       "           -93                                    0.0   \n",
       "           -57                                    0.4   \n",
       "\n",
       "                           NAME_CONTRACT_STATUS_Approved_SUM  \\\n",
       "SK_ID_CURR MONTHS_BALANCE                                      \n",
       "100001     -96                                             0   \n",
       "           -95                                             0   \n",
       "           -94                                             0   \n",
       "           -93                                             0   \n",
       "           -57                                             0   \n",
       "\n",
       "                           NAME_CONTRACT_STATUS_Canceled_SUM  \\\n",
       "SK_ID_CURR MONTHS_BALANCE                                      \n",
       "100001     -96                                             0   \n",
       "           -95                                             0   \n",
       "           -94                                             0   \n",
       "           -93                                             0   \n",
       "           -57                                             0   \n",
       "\n",
       "                           NAME_CONTRACT_STATUS_Completed_SUM  \\\n",
       "SK_ID_CURR MONTHS_BALANCE                                       \n",
       "100001     -96                                              0   \n",
       "           -95                                              0   \n",
       "           -94                                              0   \n",
       "           -93                                              1   \n",
       "           -57                                              0   \n",
       "\n",
       "                           NAME_CONTRACT_STATUS_Demand_SUM  \\\n",
       "SK_ID_CURR MONTHS_BALANCE                                    \n",
       "100001     -96                                           0   \n",
       "           -95                                           0   \n",
       "           -94                                           0   \n",
       "           -93                                           0   \n",
       "           -57                                           0   \n",
       "\n",
       "                           NAME_CONTRACT_STATUS_Returned to the store_SUM  \\\n",
       "SK_ID_CURR MONTHS_BALANCE                                                   \n",
       "100001     -96                                                          0   \n",
       "           -95                                                          0   \n",
       "           -94                                                          0   \n",
       "           -93                                                          0   \n",
       "           -57                                                          0   \n",
       "\n",
       "                           NAME_CONTRACT_STATUS_Signed_SUM  \\\n",
       "SK_ID_CURR MONTHS_BALANCE                                    \n",
       "100001     -96                                           0   \n",
       "           -95                                           0   \n",
       "           -94                                           0   \n",
       "           -93                                           0   \n",
       "           -57                                           0   \n",
       "\n",
       "                           NAME_CONTRACT_STATUS_XNA_SUM  SK_DPD_SUM  \\\n",
       "SK_ID_CURR MONTHS_BALANCE                                             \n",
       "100001     -96                                        0           0   \n",
       "           -95                                        0           7   \n",
       "           -94                                        0           0   \n",
       "           -93                                        0           0   \n",
       "           -57                                        0           0   \n",
       "\n",
       "                           SK_DPD_MEAN  SK_DPD_DEF_SUM  SK_DPD_DEF_MEAN  \n",
       "SK_ID_CURR MONTHS_BALANCE                                                \n",
       "100001     -96                     0.0               0              0.0  \n",
       "           -95                     7.0               7              7.0  \n",
       "           -94                     0.0               0              0.0  \n",
       "           -93                     0.0               0              0.0  \n",
       "           -57                     0.0               0              0.0  "
      ]
     },
     "execution_count": 6,
     "metadata": {},
     "output_type": "execute_result"
    }
   ],
   "source": [
    "pos_trn = pos.loc[pos.SK_ID_CURR.isin(trn_id)]\n",
    "pos_test = pos.loc[pos.SK_ID_CURR.isin(test_id)]\n",
    "num_aggregations = {\n",
    "    'SK_ID_PREV': ['count'],\n",
    "    'CNT_INSTALMENT': ['sum', 'max', 'mean'],\n",
    "    'CNT_INSTALMENT_FUTURE': ['sum', 'max', 'mean'],\n",
    "    'NAME_CONTRACT_STATUS_Approved': ['sum'],\n",
    "    'NAME_CONTRACT_STATUS_Canceled': ['sum'],\n",
    "    'NAME_CONTRACT_STATUS_Completed': ['sum'],\n",
    "    'NAME_CONTRACT_STATUS_Demand': ['sum'],\n",
    "    'NAME_CONTRACT_STATUS_Returned to the store': ['sum'],\n",
    "    'NAME_CONTRACT_STATUS_Signed': ['sum'],\n",
    "    'NAME_CONTRACT_STATUS_XNA': ['sum'],\n",
    "    'SK_DPD': ['sum', 'mean'],\n",
    "    'SK_DPD_DEF': ['sum', 'mean']\n",
    "}\n",
    "pos_trn = pos_trn.groupby(['SK_ID_CURR','MONTHS_BALANCE']).agg(num_aggregations)\n",
    "pos_test = pos_test.groupby(['SK_ID_CURR','MONTHS_BALANCE']).agg(num_aggregations)\n",
    "pos_trn.columns = pd.Index([e[0] + \"_\" + e[1].upper() for e in pos_trn.columns.tolist()])\n",
    "pos_test.columns = pd.Index([e[0] + \"_\" + e[1].upper() for e in pos_test.columns.tolist()])\n",
    "pos_test.head()"
   ]
  },
  {
   "cell_type": "markdown",
   "metadata": {},
   "source": [
    "Convert dataframe to 3D array (n_sample * n_time_step * n_features) for GRU network training."
   ]
  },
  {
   "cell_type": "code",
   "execution_count": 7,
   "metadata": {
    "_uuid": "cec4687df3722ac66e8b6676321ec5da963b1af0"
   },
   "outputs": [
    {
     "name": "stderr",
     "output_type": "stream",
     "text": [
      "/home/gheowyn/.local/lib/python3.6/site-packages/ipykernel_launcher.py:1: FutureWarning: \n",
      "Panel is deprecated and will be removed in a future version.\n",
      "The recommended way to represent these types of 3-dimensional data are with a MultiIndex on a DataFrame, via the Panel.to_frame() method\n",
      "Alternatively, you can use the xarray package http://xarray.pydata.org/en/stable/.\n",
      "Pandas provides a `.to_xarray()` method to help automate this conversion.\n",
      "\n",
      "  \"\"\"Entry point for launching an IPython kernel.\n",
      "/home/gheowyn/.local/lib/python3.6/site-packages/ipykernel_launcher.py:3: FutureWarning: \n",
      "Panel is deprecated and will be removed in a future version.\n",
      "The recommended way to represent these types of 3-dimensional data are with a MultiIndex on a DataFrame, via the Panel.to_frame() method\n",
      "Alternatively, you can use the xarray package http://xarray.pydata.org/en/stable/.\n",
      "Pandas provides a `.to_xarray()` method to help automate this conversion.\n",
      "\n",
      "  This is separate from the ipykernel package so we can avoid doing imports until\n"
     ]
    },
    {
     "data": {
      "text/plain": [
       "((289444, 96, 18), (47808, 96, 18), (289444,))"
      ]
     },
     "execution_count": 7,
     "metadata": {},
     "output_type": "execute_result"
    }
   ],
   "source": [
    "train_x = pos_trn.to_panel().to_xarray().values\n",
    "train_x = train_x.swapaxes(0,1).swapaxes(1,2)\n",
    "test_x = pos_test.to_panel().to_xarray().values\n",
    "test_x = test_x.swapaxes(0,1).swapaxes(1,2)\n",
    "train_x[np.isnan(train_x)]=-9\n",
    "test_x[np.isnan(test_x)]=-9\n",
    "train_y = data_app['TARGET'].loc[data_app.SK_ID_CURR.isin(trn_id)]\n",
    "train_x.shape, test_x.shape, train_y.shape"
   ]
  },
  {
   "cell_type": "markdown",
   "metadata": {},
   "source": [
    "Define GRU model. Use callback to evaluate auc metric."
   ]
  },
  {
   "cell_type": "code",
   "execution_count": 8,
   "metadata": {
    "_uuid": "d39a2f9dec6d979ba1967f274e068ee2175da34c"
   },
   "outputs": [
    {
     "name": "stderr",
     "output_type": "stream",
     "text": [
      "Using TensorFlow backend.\n"
     ]
    }
   ],
   "source": [
    "from keras.models import Sequential\n",
    "from keras.layers import Dense\n",
    "from keras.layers import LSTM, GRU\n",
    "from keras.regularizers import l2\n",
    "from keras.optimizers import RMSprop, Adam\n",
    "\n",
    "def build_model(time_step, n_features):\n",
    "    model = Sequential()\n",
    "    model.add(GRU(8, input_shape=(time_step, n_features))) #unit: #of neurons in each LSTM cell? input_shape=(time_step, n_features)\n",
    "    model.add(Dense(1,activation='sigmoid'))\n",
    "    return model\n",
    "\n",
    "from keras.callbacks import Callback\n",
    "from keras.callbacks import EarlyStopping\n",
    "import logging\n",
    "\n",
    "class IntervalEvaluation(Callback):\n",
    "    def __init__(self, validation_data=(), interval=1):\n",
    "        super(Callback, self).__init__()\n",
    "\n",
    "        self.interval = interval\n",
    "        self.X_val, self.y_val = validation_data\n",
    "\n",
    "    def on_epoch_end(self, epoch, logs={}):\n",
    "        if epoch % self.interval == (self.interval-1):\n",
    "            y_pred = self.model.predict(self.X_val, verbose=0)[:,0]\n",
    "            score = roc_auc_score(self.y_val, y_pred)\n",
    "            print('roc score',score)"
   ]
  },
  {
   "cell_type": "markdown",
   "metadata": {},
   "source": [
    "Training..."
   ]
  },
  {
   "cell_type": "code",
   "execution_count": 9,
   "metadata": {
    "_uuid": "8196c1f6d8afd551ab3fa230f2a14715b553425f",
    "scrolled": false
   },
   "outputs": [
    {
     "name": "stdout",
     "output_type": "stream",
     "text": [
      "Train on 231554 samples, validate on 57890 samples\n",
      "Epoch 1/20\n",
      "Epoch 2/20\n",
      "Epoch 3/20\n",
      "Epoch 4/20\n",
      "Epoch 5/20\n",
      "roc score 0.54927356333507\n",
      "Epoch 6/20\n",
      "Epoch 7/20\n",
      "Epoch 8/20\n",
      "Epoch 9/20\n",
      "Epoch 10/20\n",
      "roc score 0.5629433833075327\n",
      "Epoch 11/20\n",
      "Epoch 12/20\n",
      "Epoch 13/20\n",
      "Epoch 14/20\n",
      "Epoch 15/20\n",
      "roc score 0.5693661412483946\n",
      "Epoch 16/20\n",
      "Epoch 17/20\n",
      "Epoch 18/20\n",
      "Epoch 19/20\n",
      "Epoch 20/20\n",
      "roc score 0.5763580726270465\n",
      "Fold  1 AUC : 0.576358\n",
      "Train on 231555 samples, validate on 57889 samples\n",
      "Epoch 1/20\n",
      "Epoch 2/20\n",
      "Epoch 3/20\n",
      "Epoch 4/20\n",
      "Epoch 5/20\n",
      "roc score 0.5338057600780024\n",
      "Epoch 6/20\n",
      "Epoch 7/20\n",
      "Epoch 8/20\n",
      "Epoch 9/20\n",
      "Epoch 10/20\n",
      "roc score 0.5566578609576867\n",
      "Epoch 11/20\n",
      "Epoch 12/20\n",
      "Epoch 13/20\n",
      "Epoch 14/20\n",
      "Epoch 15/20\n",
      "roc score 0.5793328456063923\n",
      "Epoch 16/20\n",
      "Epoch 17/20\n",
      "Epoch 18/20\n",
      "Epoch 19/20\n",
      "Epoch 20/20\n",
      "roc score 0.599449726471827\n",
      "Fold  2 AUC : 0.599450\n",
      "Train on 231555 samples, validate on 57889 samples\n",
      "Epoch 1/20\n",
      "Epoch 2/20\n",
      "Epoch 3/20\n",
      "Epoch 4/20\n",
      "Epoch 5/20\n",
      "roc score 0.5642138293761063\n",
      "Epoch 6/20\n",
      "Epoch 7/20\n",
      "Epoch 8/20\n",
      "Epoch 9/20\n",
      "Epoch 10/20\n",
      "roc score 0.582071752638826\n",
      "Epoch 11/20\n",
      "Epoch 12/20\n",
      "Epoch 13/20\n",
      "Epoch 14/20\n",
      "Epoch 15/20\n",
      "roc score 0.5912554320807054\n",
      "Epoch 16/20\n",
      "Epoch 17/20\n",
      "Epoch 18/20\n",
      "Epoch 19/20\n",
      "Epoch 20/20\n",
      "roc score 0.5974807293574962\n",
      "Fold  3 AUC : 0.597481\n",
      "Train on 231556 samples, validate on 57888 samples\n",
      "Epoch 1/20\n",
      "Epoch 2/20\n",
      "Epoch 3/20\n",
      "Epoch 4/20\n",
      "Epoch 5/20\n",
      "roc score 0.5517901435119587\n",
      "Epoch 6/20\n",
      "Epoch 7/20\n",
      "Epoch 8/20\n",
      "Epoch 9/20\n",
      "Epoch 10/20\n",
      "roc score 0.5730349686885837\n",
      "Epoch 11/20\n",
      "Epoch 12/20\n",
      "Epoch 13/20\n",
      "Epoch 14/20\n",
      "Epoch 15/20\n",
      "roc score 0.5780215136859274\n",
      "Epoch 16/20\n",
      "Epoch 17/20\n",
      "Epoch 18/20\n",
      "Epoch 19/20\n",
      "Epoch 20/20\n",
      "roc score 0.5834739894847767\n",
      "Fold  4 AUC : 0.583474\n",
      "Train on 231556 samples, validate on 57888 samples\n",
      "Epoch 1/20\n",
      "Epoch 2/20\n",
      "Epoch 3/20\n",
      "Epoch 4/20\n",
      "Epoch 5/20\n",
      "roc score 0.5594988222343451\n",
      "Epoch 6/20\n",
      "Epoch 7/20\n",
      "Epoch 8/20\n",
      "Epoch 9/20\n",
      "Epoch 10/20\n",
      "roc score 0.574041748645302\n",
      "Epoch 11/20\n",
      "Epoch 12/20\n",
      "Epoch 13/20\n",
      "Epoch 14/20\n",
      "Epoch 15/20\n",
      "roc score 0.5837286254837093\n",
      "Epoch 16/20\n",
      "Epoch 17/20\n",
      "Epoch 18/20\n",
      "Epoch 19/20\n",
      "Epoch 20/20\n",
      "roc score 0.5872345201412452\n",
      "Fold  5 AUC : 0.587235\n"
     ]
    }
   ],
   "source": [
    "# Run a 5 fold\n",
    "folds = StratifiedKFold(n_splits=5, shuffle=True, random_state=777)\n",
    "oof_preds = np.zeros(train_x.shape[0])\n",
    "sub_preds = np.zeros(test_x.shape[0])\n",
    "\n",
    "for n_fold, (trn_idx, val_idx) in enumerate(folds.split(train_x, train_y)):\n",
    "    trn_x, val_x = train_x[trn_idx], train_x[val_idx]\n",
    "    trn_y, val_y = train_y.values[trn_idx], train_y.values[val_idx]\n",
    "    ival = IntervalEvaluation(validation_data=(val_x, val_y), interval=5)\n",
    "    \n",
    "    model = build_model(trn_x.shape[1],trn_x.shape[2])\n",
    "    model.compile(loss='binary_crossentropy', optimizer=Adam(decay=0.0005))\n",
    "    model.fit(trn_x, trn_y,\n",
    "              validation_data= [val_x, val_y],\n",
    "              epochs=20, batch_size=5000, \n",
    "              class_weight = {0:1,1:10},\n",
    "              callbacks=[ival], verbose=5)\n",
    "    \n",
    "    oof_preds[val_idx] = model.predict(val_x)[:,0]\n",
    "    sub_preds += model.predict(test_x)[:,0] / folds.n_splits\n",
    "    \n",
    "    print('Fold %2d AUC : %.6f' % (n_fold + 1, roc_auc_score(val_y, oof_preds[val_idx])))\n",
    "  \n",
    "    del model, trn_x, trn_y, val_x, val_y\n",
    "    gc.collect()"
   ]
  },
  {
   "cell_type": "markdown",
   "metadata": {},
   "source": [
    "Save model prediction to disk."
   ]
  },
  {
   "cell_type": "code",
   "execution_count": 10,
   "metadata": {
    "_uuid": "702835883349074834b30bdf194820d98cd36631"
   },
   "outputs": [],
   "source": [
    "pos_score_train = pd.DataFrame({'pos_score':oof_preds}, index=trn_id)\n",
    "pos_score_test = pd.DataFrame({'pos_score':sub_preds}, index=test_id)             \n",
    "pos_score_train.to_csv('../output/pos_score_train.csv')\n",
    "pos_score_test.to_csv('../output/pos_score_test.csv')"
   ]
  }
 ],
 "metadata": {
  "kernelspec": {
   "display_name": "Python 3",
   "language": "python",
   "name": "python3"
  },
  "language_info": {
   "codemirror_mode": {
    "name": "ipython",
    "version": 3
   },
   "file_extension": ".py",
   "mimetype": "text/x-python",
   "name": "python",
   "nbconvert_exporter": "python",
   "pygments_lexer": "ipython3",
   "version": "3.6.6"
  }
 },
 "nbformat": 4,
 "nbformat_minor": 1
}
