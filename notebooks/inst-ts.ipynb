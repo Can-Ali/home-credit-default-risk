{
 "cells": [
  {
   "cell_type": "markdown",
   "metadata": {},
   "source": [
    "## Installment payment time series feature extraction\n",
    "Train GRU network on installment payment time series data. Save prediction to be used as features in final training."
   ]
  },
  {
   "cell_type": "code",
   "execution_count": null,
   "metadata": {
    "_cell_guid": "b1076dfc-b9ad-4769-8c92-a6c4dae69d19",
    "_uuid": "8f2839f25d086af736a60e9eeb907d3b93b6e0e5",
    "collapsed": true
   },
   "outputs": [],
   "source": [
    "import pandas as pd\n",
    "import numpy as np\n",
    "\n",
    "from sklearn.linear_model import LinearRegression, Ridge\n",
    "from sklearn.metrics import roc_auc_score, roc_curve\n",
    "from sklearn.model_selection import KFold, StratifiedKFold, train_test_split\n",
    "from sklearn.preprocessing import StandardScaler, MinMaxScaler, MaxAbsScaler\n",
    "import gc\n",
    "\n",
    "import os\n",
    "print(os.listdir(\"../input\"))\n",
    "    \n",
    "gc.enable()"
   ]
  },
  {
   "cell_type": "markdown",
   "metadata": {},
   "source": [
    "Read installment data and create features."
   ]
  },
  {
   "cell_type": "code",
   "execution_count": null,
   "metadata": {
    "_uuid": "c667420221724b44093c52d85d01c0d9ab4482e2",
    "collapsed": true
   },
   "outputs": [],
   "source": [
    "inst = pd.read_csv('../input/installments_payments.csv.zip')\n",
    "inst['DAYS_ENTRY_PAYMENT_weighted'] = inst['DAYS_ENTRY_PAYMENT'] * inst['AMT_PAYMENT']\n",
    "inst = inst.groupby(['SK_ID_PREV','SK_ID_CURR','NUM_INSTALMENT_NUMBER']).agg({\n",
    "                                                                       'DAYS_INSTALMENT':'mean',\n",
    "                                                                       'DAYS_ENTRY_PAYMENT_weighted':'sum',\n",
    "                                                                       'AMT_INSTALMENT':'mean',\n",
    "                                                                       'AMT_PAYMENT':'sum'})\n",
    "inst['DAYS_ENTRY_PAYMENT'] = inst['DAYS_ENTRY_PAYMENT_weighted']/inst['AMT_PAYMENT']\n",
    "inst = inst.reset_index()\n",
    "del inst['DAYS_ENTRY_PAYMENT_weighted']\n",
    "inst['AMT_PAYMENT_PERC'] = inst['AMT_PAYMENT'] / (1+inst['AMT_INSTALMENT'])\n",
    "inst['DPD'] = (inst['DAYS_ENTRY_PAYMENT'] - inst['DAYS_INSTALMENT']).clip(lower=0)\n",
    "inst['DBD'] = (inst['DAYS_INSTALMENT'] - inst['DAYS_ENTRY_PAYMENT']).clip(lower=0)\n",
    "inst['MONTHS_BALANCE'] = (inst['DAYS_INSTALMENT']/30.4375).astype('int')\n",
    "del inst['DAYS_ENTRY_PAYMENT'], inst['DAYS_INSTALMENT']\n",
    "gc.collect()\n",
    "#apply logarithm to make distribution more normal\n",
    "inst['AMT_INSTALMENT_LOG'] = inst['AMT_INSTALMENT'].apply(np.log1p)\n",
    "inst['AMT_PAYMENT_LOG'] = inst['AMT_PAYMENT'].apply(np.log1p)\n",
    "inst[['AMT_INSTALMENT','AMT_PAYMENT']] = scale_data(inst[['AMT_INSTALMENT','AMT_PAYMENT']])\n",
    "inst.head()"
   ]
  },
  {
   "cell_type": "markdown",
   "metadata": {},
   "source": [
    "Read target from main table."
   ]
  },
  {
   "cell_type": "code",
   "execution_count": null,
   "metadata": {
    "_uuid": "3ba57fe82d915842f663fc21409af9f0ffc1abf8",
    "collapsed": true
   },
   "outputs": [],
   "source": [
    "data_app = pd.read_csv('../input/application_train.csv.zip',usecols=['SK_ID_CURR','TARGET'])\n",
    "data_test = pd.read_csv('../input/application_test.csv.zip',usecols=['SK_ID_CURR'])\n",
    "data_app.shape, data_test.shape"
   ]
  },
  {
   "cell_type": "code",
   "execution_count": null,
   "metadata": {
    "_uuid": "f9bbf170359e06f5c1bc257cc54e027cc396abb3",
    "collapsed": true
   },
   "outputs": [],
   "source": [
    "trn_id = data_app['SK_ID_CURR'].loc[data_app.SK_ID_CURR.isin(inst.SK_ID_CURR)]\n",
    "test_id = data_test['SK_ID_CURR'].loc[data_test['SK_ID_CURR'].isin(inst.SK_ID_CURR)]\n",
    "trn_id.shape, test_id.shape"
   ]
  },
  {
   "cell_type": "markdown",
   "metadata": {},
   "source": [
    "Split train and test set. Group by ID and month to create time series."
   ]
  },
  {
   "cell_type": "code",
   "execution_count": null,
   "metadata": {
    "_uuid": "0c6a308c58c959d41ba6fdaa9492133bfc5d0489",
    "collapsed": true
   },
   "outputs": [],
   "source": [
    "inst_trn = inst.loc[inst.SK_ID_CURR.isin(trn_id)]\n",
    "inst_test = inst.loc[inst.SK_ID_CURR.isin(test_id)]\n",
    "num_aggregations = {\n",
    "    'SK_ID_PREV': ['count'],\n",
    "    'NUM_INSTALMENT_NUMBER': ['sum', 'max'],\n",
    "    'AMT_INSTALMENT': ['sum','mean'],\n",
    "    'AMT_PAYMENT': ['sum','mean'],\n",
    "    'AMT_PAYMENT_PERC': ['mean','max'],\n",
    "    'DPD': ['sum','max','mean'],\n",
    "    'DBD': ['sum','max','mean'],\n",
    "    'AMT_INSTALMENT_LOG': ['mean'],\n",
    "    'AMT_PAYMENT_LOG': ['mean']\n",
    "}\n",
    "inst_trn = inst_trn.groupby(['SK_ID_CURR','MONTHS_BALANCE']).agg(num_aggregations)\n",
    "inst_test = inst_test.groupby(['SK_ID_CURR','MONTHS_BALANCE']).agg(num_aggregations)\n",
    "inst_trn.columns = pd.Index([e[0] + \"_\" + e[1].upper() for e in inst_trn.columns.tolist()])\n",
    "inst_test.columns = pd.Index([e[0] + \"_\" + e[1].upper() for e in inst_test.columns.tolist()])\n",
    "\n",
    "inst_trn = downcast_dtypes(inst_trn)\n",
    "inst_test = downcast_dtypes(inst_test)\n",
    "del inst\n",
    "gc.collect()\n",
    "inst_test.head()"
   ]
  },
  {
   "cell_type": "markdown",
   "metadata": {},
   "source": [
    "Convert dataframe to 3D array (n_sample * n_time_step * n_features) for GRU network training."
   ]
  },
  {
   "cell_type": "code",
   "execution_count": null,
   "metadata": {
    "_uuid": "cec4687df3722ac66e8b6676321ec5da963b1af0",
    "collapsed": true
   },
   "outputs": [],
   "source": [
    "train_x = inst_trn.to_panel().to_xarray().values\n",
    "train_x = train_x.swapaxes(0,1).swapaxes(1,2)\n",
    "test_x = inst_test.to_panel().to_xarray().values\n",
    "test_x = test_x.swapaxes(0,1).swapaxes(1,2)\n",
    "train_x[np.isnan(train_x)]=-9\n",
    "test_x[np.isnan(test_x)]=-9\n",
    "train_y = data_app['TARGET'].loc[data_app.SK_ID_CURR.isin(trn_id)]\n",
    "\n",
    "del inst_trn, inst_test\n",
    "gc.collect()\n",
    "\n",
    "train_x.shape, test_x.shape, train_y.shape"
   ]
  },
  {
   "cell_type": "markdown",
   "metadata": {},
   "source": [
    "Define GRU model. Use callback to evaluate auc metric."
   ]
  },
  {
   "cell_type": "code",
   "execution_count": null,
   "metadata": {
    "_uuid": "d39a2f9dec6d979ba1967f274e068ee2175da34c",
    "collapsed": true
   },
   "outputs": [],
   "source": [
    "from keras.models import Sequential\n",
    "from keras.layers import Dense\n",
    "from keras.layers import LSTM, GRU\n",
    "from keras.regularizers import l2\n",
    "from keras.optimizers import RMSprop, Adam\n",
    "\n",
    "def build_model(time_step, n_features):\n",
    "    model = Sequential()\n",
    "    model.add(GRU(8, input_shape=(time_step, n_features))) #unit: #of neurons in each LSTM cell? input_shape=(time_step, n_features)\n",
    "    model.add(Dense(1,activation='sigmoid'))\n",
    "    return model\n",
    "\n",
    "from keras.callbacks import Callback\n",
    "from keras.callbacks import EarlyStopping\n",
    "import logging\n",
    "\n",
    "class IntervalEvaluation(Callback):\n",
    "    def __init__(self, validation_data=(), interval=1):\n",
    "        super(Callback, self).__init__()\n",
    "\n",
    "        self.interval = interval\n",
    "        self.X_val, self.y_val = validation_data\n",
    "\n",
    "    def on_epoch_end(self, epoch, logs={}):\n",
    "        if epoch % self.interval == (self.inteval-1):\n",
    "            y_pred = self.model.predict(self.X_val, verbose=0)[:,0]\n",
    "            score = roc_auc_score(self.y_val, y_pred)\n",
    "            print('roc score',score)\n",
    "            "
   ]
  },
  {
   "cell_type": "markdown",
   "metadata": {},
   "source": [
    "Training..."
   ]
  },
  {
   "cell_type": "code",
   "execution_count": null,
   "metadata": {
    "_uuid": "8196c1f6d8afd551ab3fa230f2a14715b553425f",
    "collapsed": true
   },
   "outputs": [],
   "source": [
    "# Run a 5 fold\n",
    "folds = StratifiedKFold(n_splits=5, shuffle=True, random_state=777)\n",
    "oof_preds = np.zeros(train_x.shape[0])\n",
    "sub_preds = np.zeros(test_x.shape[0])\n",
    "\n",
    "for n_fold, (trn_idx, val_idx) in enumerate(folds.split(train_x, train_y)):\n",
    "    trn_x, val_x = train_x[trn_idx], train_x[val_idx]\n",
    "    trn_y, val_y = train_y.values[trn_idx], train_y.values[val_idx]\n",
    "    ival = IntervalEvaluation(validation_data=(val_x, val_y), interval=5)\n",
    "    \n",
    "    model = build_model(trn_x.shape[1],trn_x.shape[2])\n",
    "    model.compile(loss='binary_crossentropy', optimizer=Adam(decay=0.0001))\n",
    "    model.fit(trn_x, trn_y,\n",
    "              validation_data = [val_x, val_y],\n",
    "              epochs=40, batch_size=8000, \n",
    "              class_weight = {0:1,1:10},\n",
    "              callbacks=[ival], verbose=5)\n",
    "    \n",
    "    oof_preds[val_idx] = model.predict(val_x)[:,0]\n",
    "    sub_preds += model.predict(test_x)[:,0] / folds.n_splits\n",
    "    \n",
    "    print('Fold %2d AUC : %.6f' % (n_fold + 1, roc_auc_score(val_y, oof_preds[val_idx])))\n",
    "  \n",
    "    del model, trn_x, trn_y, val_x, val_y\n",
    "    gc.collect()"
   ]
  },
  {
   "cell_type": "code",
   "execution_count": null,
   "metadata": {},
   "outputs": [],
   "source": [
    "Save model prediction to disk."
   ]
  },
  {
   "cell_type": "code",
   "execution_count": null,
   "metadata": {
    "_uuid": "702835883349074834b30bdf194820d98cd36631",
    "collapsed": true
   },
   "outputs": [],
   "source": [
    "inst_score_train = pd.DataFrame({'inst_score':oof_preds}, index=trn_id)\n",
    "inst_score_test = pd.DataFrame({'inst_score':sub_preds}, index=test_id)             \n",
    "inst_score_train.to_csv('../output/inst_score_train.csv')\n",
    "inst_score_test.to_csv('../output/inst_score_test.csv')"
   ]
  }
 ],
 "metadata": {
  "kernelspec": {
   "display_name": "Python 3",
   "language": "python",
   "name": "python3"
  },
  "language_info": {
   "codemirror_mode": {
    "name": "ipython",
    "version": 3
   },
   "file_extension": ".py",
   "mimetype": "text/x-python",
   "name": "python",
   "nbconvert_exporter": "python",
   "pygments_lexer": "ipython3",
   "version": "3.6.6"
  }
 },
 "nbformat": 4,
 "nbformat_minor": 1
}
